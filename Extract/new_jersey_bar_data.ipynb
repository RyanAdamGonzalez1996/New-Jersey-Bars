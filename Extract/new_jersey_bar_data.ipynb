{
 "cells": [
  {
   "cell_type": "code",
   "execution_count": 1,
   "metadata": {},
   "outputs": [],
   "source": [
    "# Setup all Dependencies\n",
    "from splinter import Browser\n",
    "from webdriver_manager.chrome import ChromeDriverManager\n",
    "from bs4 import BeautifulSoup\n",
    "import pandas as pd\n",
    "import time\n",
    "import requests"
   ]
  },
  {
   "cell_type": "code",
   "execution_count": null,
   "metadata": {},
   "outputs": [],
   "source": [
    "!which chromedriver"
   ]
  },
  {
   "cell_type": "code",
   "execution_count": null,
   "metadata": {},
   "outputs": [],
   "source": [
    "# Setup splinter\n",
    "\n",
    "executable_path = {'executable_path': ChromeDriverManager().install()}\n",
    "browser = Browser('chrome', **executable_path, headless=False)\n",
    "\n"
   ]
  },
  {
   "cell_type": "code",
   "execution_count": null,
   "metadata": {},
   "outputs": [],
   "source": [
    "#Lists for storing data\n",
    "name_list = []\n",
    "type_list = []\n",
    "website_list = []\n",
    "phone_list = []\n",
    "price_list = []\n",
    "address_list = []\n",
    "rating_list = []\n",
    "hours_list = []\n"
   ]
  },
  {
   "cell_type": "code",
   "execution_count": null,
   "metadata": {},
   "outputs": [],
   "source": [
    "#Atlantic County\n",
    "    #Absecon\n",
    "    #Atlantic City\n",
    "    #Brigantine\n",
    "    #Buena\n",
    "    #Buena Vista Township\n",
    "    #Corbin City\n",
    "    #Egg Harbor\n",
    "    #Estell Manor\n",
    "    #Folsom\n",
    "    #Galloway Township\n",
    "    #Hamilton Township\n",
    "    #Hammonton\n",
    "    #Linwood\n",
    "    #Longport\n",
    "    #Margate City\n",
    "    #Mullica Township\n",
    "    #Northfield\n",
    "    #Pleasantville\n",
    "    #Port Republic\n",
    "    #Somers Point\n",
    "    #Ventnor City\n",
    "    #Weymouth Township\n",
    "\n",
    "url = \"https://www.tripadvisor.com/Restaurants-g6787210-Morris_County_New_Jersey.html\"\n",
    "\n",
    "browser.visit(url)"
   ]
  },
  {
   "cell_type": "code",
   "execution_count": null,
   "metadata": {},
   "outputs": [],
   "source": [
    "#Bergen County\n",
    "    #Palisades Park\n",
    "    #Leonia\n",
    "    #Ridgefield\n",
    "    #Fort Lee\n",
    "    #Closter\n",
    "    #Englewood Cliffs\n",
    "    #Norwood\n",
    "    #Edgewater\n",
    "    #Cresskill\n",
    "    #Demarest"
   ]
  },
  {
   "cell_type": "code",
   "execution_count": 1,
   "metadata": {},
   "outputs": [],
   "source": [
    "#Burlington County\n",
    "    #Bass River Township\n",
    "    #Beverly\n",
    "    #Bordentown\n",
    "    #Burlington\n",
    "    #Burlington township\n",
    "    #Chesterfield \n",
    "    #Cinnaminson\n",
    "    #Delanco\n",
    "    #Delran\n",
    "    #Eastampton\n",
    "    #Edgewater\n",
    "    #Evesham\n",
    "    #Fieldsboro\n",
    "    #Florence\n",
    "    #Hainesport\n",
    "    #Lumberton\n",
    "    #Mansfield\n",
    "    #Maple Shade\n",
    "    #Medford\n",
    "    #Medford Lakes\n",
    "    #Moorestown\n",
    "    #Mount Holly\n",
    "    #Mount Laurel\n",
    "    #New Hanover\n",
    "    #North Hanover\n",
    "    #Palmyra\n",
    "    #Pemberton\n",
    "    #Riverside\n",
    "    #Riverton\n",
    "    #Shamong\n",
    "    #Southampton\n",
    "    #Springfield\n",
    "    #Tabernacle\n",
    "    #Washington\n",
    "    #Westampton\n",
    "    #Willingboro\n",
    "    #Woodland\n",
    "    #Wrightstown\n",
    "    "
   ]
  },
  {
   "cell_type": "code",
   "execution_count": null,
   "metadata": {},
   "outputs": [],
   "source": [
    "#Camden County\n",
    "    #Audubon\n",
    "    #Audubon Park\n",
    "    #Barrington\n",
    "    #Bellmawr\n",
    "    #Berlin\n",
    "    #Brooklawn\n",
    "    #Camden\n",
    "    #Cherry Hill\n",
    "    #Chestilhurst\n",
    "    #Clementon\n",
    "    #Collingswood\n",
    "    #Gibbsboro\n",
    "    #Gloucester City\n",
    "    #Cloucester Township\n",
    "    #Haddon\n",
    "    #Haddonfield\n",
    "    #Haddon Heights\n",
    "    #Hi-Nella\n",
    "    #Laurel Springs\n",
    "    #Lawnside\n",
    "    #Lindenwold\n",
    "    #Magnolia\n",
    "    #Merchantville\n",
    "    #Mount Ephraim\n",
    "    #Oaklyn\n",
    "    #Pennsauken\n",
    "    #Pine Hill\n",
    "    #Pine Valley\n",
    "    #Runnemade\n",
    "    #Somerdale\n",
    "    #Stratford\n",
    "    #Tavistock\n",
    "    #Voorhees\n",
    "    #Waterford\n",
    "    #Winslow\n",
    "    #Woodlynne"
   ]
  },
  {
   "cell_type": "code",
   "execution_count": null,
   "metadata": {},
   "outputs": [],
   "source": [
    "#Cape May County\n",
    "    #Avalon\n",
    "    #Cape May\n",
    "    #Cape May Point\n",
    "    #Dennis\n",
    "    #Lower\n",
    "    #Middle\n",
    "    #North Wildwood\n",
    "    #Ocean City\n",
    "    #Sea Isle City\n",
    "    #Stone Harbor\n",
    "    #Upper\n",
    "    #West Cape May\n",
    "    #West Wildwood\n",
    "    #Wildwood\n",
    "    #Wildwood Crest\n",
    "    #Woodbine"
   ]
  },
  {
   "cell_type": "code",
   "execution_count": null,
   "metadata": {},
   "outputs": [],
   "source": [
    "#Cumberland County\n",
    "    #Bridgeton\n",
    "    #Commercial\n",
    "    #Deerfield\n",
    "    #Downe\n",
    "    #Fairfield\n",
    "    #Greenwich\n",
    "    #Hopewell\n",
    "    #Lawrence\n",
    "    #Maurice River\n",
    "    #Millville\n",
    "    #Shiloh\n",
    "    #Stow Creek\n",
    "    #Upper Deerfield\n",
    "    #Vineland"
   ]
  },
  {
   "cell_type": "code",
   "execution_count": null,
   "metadata": {},
   "outputs": [],
   "source": [
    "#Essex County\n",
    "    #Belleville\n",
    "    #Bloomfield\n",
    "    #Caldwell\n",
    "    #Cedar Grove\n",
    "    #East Orange\n",
    "    #Essex Fall\n",
    "    #Fairfield\n",
    "    #Glen Ridge\n",
    "    #Irvington\n",
    "    #Livingston\n",
    "    #Maplewood\n",
    "    #Millburn\n",
    "    #Montclair\n",
    "    #Newark\n",
    "    #North Caldwell\n",
    "    #Nutley\n",
    "    #Orange\n",
    "    #Roseland\n",
    "    #South Orange\n",
    "    #Verona\n",
    "    #West Caldwell\n",
    "    #West Orange"
   ]
  },
  {
   "cell_type": "code",
   "execution_count": null,
   "metadata": {},
   "outputs": [],
   "source": [
    "#Gloucester County\n",
    "    #Clayton\n",
    "    #Deptford\n",
    "    #East Greenwich\n",
    "    #Elk \n",
    "    #Franklin\n",
    "    #Glassboro\n",
    "    #Greenwich\n",
    "    #Harrison Township\n",
    "    #Logan \n",
    "    #Mantua\n",
    "    #Monroe\n",
    "    #National Park\n",
    "    #Newfield\n",
    "    #Paulsboro\n",
    "    #Pitman\n",
    "    #South Harrison Township\n",
    "    #Swedesboro\n",
    "    #Washington Township\n",
    "    #Wenonah\n",
    "    #West Deptford\n",
    "    #Westville\n",
    "    #Woodbury\n",
    "    #Woodbury Heights\n",
    "    #Woolwich Township"
   ]
  },
  {
   "cell_type": "code",
   "execution_count": null,
   "metadata": {},
   "outputs": [],
   "source": [
    "#Hudson County\n",
    "    #Bayonne\n",
    "    #East Newark\n",
    "    #Guttenberg\n",
    "    #Harrison\n",
    "    #Hoboken\n",
    "    #Jersey City\n",
    "    #Kearny\n",
    "    #North Bergen\n",
    "    #Secaucus\n",
    "    #Union City\n",
    "    #Weehawken\n",
    "    #West New York"
   ]
  },
  {
   "cell_type": "code",
   "execution_count": null,
   "metadata": {},
   "outputs": [],
   "source": [
    "#Hunterdon County\n",
    "    #Alexandria\n",
    "    #Bethlehem\n",
    "    #Bloomsbury\n",
    "    #Califon\n",
    "    #Clinton\n",
    "    #Clinton Township\n",
    "    #Delaware Township\n",
    "    #East Amwell\n",
    "    #Flemington\n",
    "    #Franklin\n",
    "    #Frenchtown\n",
    "    #Glen Gardner\n",
    "    #Hampton\n",
    "    #High Bridge\n",
    "    #Holland Township\n",
    "    #Kingwood Township\n",
    "    #Lambertville\n",
    "    #Lebanon\n",
    "    #Lebanon Township\n",
    "    #Milford\n",
    "    #Raritan Township\n",
    "    #Readington Township\n",
    "    #Stockton\n",
    "    #Tewksbury \n",
    "    #Union Township\n",
    "    #West Amwell Township\n",
    "    "
   ]
  },
  {
   "cell_type": "code",
   "execution_count": null,
   "metadata": {},
   "outputs": [],
   "source": [
    "#Mercer County\n",
    "    #East Windsor\n",
    "    #Ewing\n",
    "    #Hamilton\n",
    "    #Hightstower\n",
    "    #Hopewell\n",
    "    #Lawrence\n",
    "    #Pennington\n",
    "    #Princeton\n",
    "    #Robbinsville"
   ]
  },
  {
   "cell_type": "code",
   "execution_count": null,
   "metadata": {},
   "outputs": [],
   "source": [
    "#Middlesex County"
   ]
  },
  {
   "cell_type": "code",
   "execution_count": null,
   "metadata": {},
   "outputs": [],
   "source": [
    "#Monmouth County"
   ]
  },
  {
   "cell_type": "code",
   "execution_count": null,
   "metadata": {},
   "outputs": [],
   "source": [
    "#Morris County"
   ]
  },
  {
   "cell_type": "code",
   "execution_count": null,
   "metadata": {},
   "outputs": [],
   "source": [
    "#Ocean County"
   ]
  },
  {
   "cell_type": "code",
   "execution_count": null,
   "metadata": {},
   "outputs": [],
   "source": [
    "#Passaic County"
   ]
  },
  {
   "cell_type": "code",
   "execution_count": null,
   "metadata": {},
   "outputs": [],
   "source": [
    "#Salem County"
   ]
  },
  {
   "cell_type": "code",
   "execution_count": null,
   "metadata": {},
   "outputs": [],
   "source": [
    "#Somerset County"
   ]
  },
  {
   "cell_type": "code",
   "execution_count": null,
   "metadata": {},
   "outputs": [],
   "source": [
    "#Sussex County"
   ]
  },
  {
   "cell_type": "code",
   "execution_count": null,
   "metadata": {},
   "outputs": [],
   "source": [
    "#Union County"
   ]
  },
  {
   "cell_type": "code",
   "execution_count": null,
   "metadata": {},
   "outputs": [],
   "source": [
    "#Warren County"
   ]
  }
 ],
 "metadata": {
  "kernelspec": {
   "display_name": "Python 3",
   "language": "python",
   "name": "python3"
  },
  "language_info": {
   "codemirror_mode": {
    "name": "ipython",
    "version": 3
   },
   "file_extension": ".py",
   "mimetype": "text/x-python",
   "name": "python",
   "nbconvert_exporter": "python",
   "pygments_lexer": "ipython3",
   "version": "3.8.3"
  }
 },
 "nbformat": 4,
 "nbformat_minor": 4
}
