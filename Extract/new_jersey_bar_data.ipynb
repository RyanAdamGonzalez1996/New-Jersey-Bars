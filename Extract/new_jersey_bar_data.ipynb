{
 "cells": [
  {
   "cell_type": "code",
   "execution_count": 1,
   "metadata": {},
   "outputs": [],
   "source": [
    "# Setup all Dependencies\n",
    "from splinter import Browser\n",
    "from webdriver_manager.chrome import ChromeDriverManager\n",
    "from bs4 import BeautifulSoup\n",
    "import pandas as pd\n",
    "import time\n",
    "import requests"
   ]
  },
  {
   "cell_type": "code",
   "execution_count": null,
   "metadata": {},
   "outputs": [],
   "source": [
    "!which chromedriver"
   ]
  },
  {
   "cell_type": "code",
   "execution_count": null,
   "metadata": {},
   "outputs": [],
   "source": [
    "# Setup splinter\n",
    "\n",
    "executable_path = {'executable_path': ChromeDriverManager().install()}\n",
    "browser = Browser('chrome', **executable_path, headless=False)\n",
    "\n"
   ]
  },
  {
   "cell_type": "code",
   "execution_count": null,
   "metadata": {},
   "outputs": [],
   "source": [
    "#Lists for storing data\n",
    "name_list = []\n",
    "type_list = []\n",
    "website_list = []\n",
    "phone_list = []\n",
    "price_list = []\n",
    "address_list = []\n",
    "rating_list = []\n",
    "hours_list = []\n"
   ]
  },
  {
   "cell_type": "code",
   "execution_count": null,
   "metadata": {},
   "outputs": [],
   "source": [
    "#Atlantic County\n",
    "    #Absecon\n",
    "    #Atlantic City\n",
    "    #Brigantine\n",
    "    #Buena\n",
    "    #Buena Vista Township\n",
    "    #Corbin City\n",
    "    #Egg Harbor\n",
    "    #Estell Manor\n",
    "    #Folsom\n",
    "    #Galloway Township\n",
    "    #Hamilton Township\n",
    "    #Hammonton\n",
    "    #Linwood\n",
    "    #Longport\n",
    "    #Margate City\n",
    "    #Mullica Township\n",
    "    #Northfield\n",
    "    #Pleasantville\n",
    "    #Port Republic\n",
    "    #Somers Point\n",
    "    #Ventnor City\n",
    "    #Weymouth Township\n",
    "\n",
    "url = \"https://www.tripadvisor.com/Restaurants-g6787210-Morris_County_New_Jersey.html\"\n",
    "\n",
    "browser.visit(url)"
   ]
  },
  {
   "cell_type": "code",
   "execution_count": null,
   "metadata": {},
   "outputs": [],
   "source": [
    "#Bergen County\n",
    "    #Palisades Park\n",
    "    #Leonia\n",
    "    #Ridgefield\n",
    "    #Fort Lee\n",
    "    #Closter\n",
    "    #Englewood Cliffs\n",
    "    #Norwood\n",
    "    #Edgewater\n",
    "    #Cresskill\n",
    "    #Demarest"
   ]
  },
  {
   "cell_type": "code",
   "execution_count": 1,
   "metadata": {},
   "outputs": [],
   "source": [
    "#Burlington County\n",
    "    #Bass River Township\n",
    "    #Beverly\n",
    "    #Bordentown\n",
    "    #Burlington\n",
    "    #Burlington township\n",
    "    #Chesterfield \n",
    "    #Cinnaminson\n",
    "    #Delanco\n",
    "    #Delran\n",
    "    #Eastampton\n",
    "    #Edgewater\n",
    "    #Evesham\n",
    "    #Fieldsboro\n",
    "    #Florence\n",
    "    #Hainesport\n",
    "    #Lumberton\n",
    "    #Mansfield\n",
    "    #Maple Shade\n",
    "    #Medford\n",
    "    #Medford Lakes\n",
    "    #Moorestown\n",
    "    #Mount Holly\n",
    "    #Mount Laurel\n",
    "    #New Hanover\n",
    "    #North Hanover\n",
    "    #Palmyra\n",
    "    #Pemberton\n",
    "    #Riverside\n",
    "    #Riverton\n",
    "    #Shamong\n",
    "    #Southampton\n",
    "    #Springfield\n",
    "    #Tabernacle\n",
    "    #Washington\n",
    "    #Westampton\n",
    "    #Willingboro\n",
    "    #Woodland\n",
    "    #Wrightstown\n",
    "    "
   ]
  },
  {
   "cell_type": "code",
   "execution_count": null,
   "metadata": {},
   "outputs": [],
   "source": [
    "#Camden County"
   ]
  },
  {
   "cell_type": "code",
   "execution_count": null,
   "metadata": {},
   "outputs": [],
   "source": [
    "#Cape May County"
   ]
  },
  {
   "cell_type": "code",
   "execution_count": null,
   "metadata": {},
   "outputs": [],
   "source": [
    "#Cumberland County"
   ]
  },
  {
   "cell_type": "code",
   "execution_count": null,
   "metadata": {},
   "outputs": [],
   "source": [
    "#Essex County"
   ]
  },
  {
   "cell_type": "code",
   "execution_count": null,
   "metadata": {},
   "outputs": [],
   "source": [
    "#Gloucester County"
   ]
  },
  {
   "cell_type": "code",
   "execution_count": null,
   "metadata": {},
   "outputs": [],
   "source": [
    "#Hudson County"
   ]
  },
  {
   "cell_type": "code",
   "execution_count": null,
   "metadata": {},
   "outputs": [],
   "source": [
    "#Hunterdon County"
   ]
  },
  {
   "cell_type": "code",
   "execution_count": null,
   "metadata": {},
   "outputs": [],
   "source": [
    "#Mercer County"
   ]
  },
  {
   "cell_type": "code",
   "execution_count": null,
   "metadata": {},
   "outputs": [],
   "source": [
    "#Middlesex County"
   ]
  },
  {
   "cell_type": "code",
   "execution_count": null,
   "metadata": {},
   "outputs": [],
   "source": [
    "#Monmouth County"
   ]
  },
  {
   "cell_type": "code",
   "execution_count": null,
   "metadata": {},
   "outputs": [],
   "source": [
    "#Morris County"
   ]
  },
  {
   "cell_type": "code",
   "execution_count": null,
   "metadata": {},
   "outputs": [],
   "source": [
    "#Ocean County"
   ]
  },
  {
   "cell_type": "code",
   "execution_count": null,
   "metadata": {},
   "outputs": [],
   "source": [
    "#Passaic County"
   ]
  },
  {
   "cell_type": "code",
   "execution_count": null,
   "metadata": {},
   "outputs": [],
   "source": [
    "#Salem County"
   ]
  },
  {
   "cell_type": "code",
   "execution_count": null,
   "metadata": {},
   "outputs": [],
   "source": [
    "#Somerset County"
   ]
  },
  {
   "cell_type": "code",
   "execution_count": null,
   "metadata": {},
   "outputs": [],
   "source": [
    "#Sussex County"
   ]
  },
  {
   "cell_type": "code",
   "execution_count": null,
   "metadata": {},
   "outputs": [],
   "source": [
    "#Union County"
   ]
  },
  {
   "cell_type": "code",
   "execution_count": null,
   "metadata": {},
   "outputs": [],
   "source": [
    "#Warren County"
   ]
  }
 ],
 "metadata": {
  "kernelspec": {
   "display_name": "Python 3",
   "language": "python",
   "name": "python3"
  },
  "language_info": {
   "codemirror_mode": {
    "name": "ipython",
    "version": 3
   },
   "file_extension": ".py",
   "mimetype": "text/x-python",
   "name": "python",
   "nbconvert_exporter": "python",
   "pygments_lexer": "ipython3",
   "version": "3.8.3"
  }
 },
 "nbformat": 4,
 "nbformat_minor": 4
}
